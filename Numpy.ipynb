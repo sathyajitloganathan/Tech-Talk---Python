{
 "cells": [
  {
   "cell_type": "markdown",
   "metadata": {},
   "source": [
    "# Numpy"
   ]
  },
  {
   "cell_type": "code",
   "execution_count": 33,
   "metadata": {},
   "outputs": [],
   "source": [
    "import numpy as np"
   ]
  },
  {
   "cell_type": "code",
   "execution_count": 34,
   "metadata": {},
   "outputs": [],
   "source": [
    "width = [32.4, 41.7, 23.5, 30.2, 28.9]\n",
    "length = [75.3, 69.4, 67.3, 88.9, 93.4]"
   ]
  },
  {
   "cell_type": "code",
   "execution_count": 35,
   "metadata": {},
   "outputs": [
    {
     "data": {
      "text/plain": [
       "list"
      ]
     },
     "execution_count": 35,
     "metadata": {},
     "output_type": "execute_result"
    }
   ],
   "source": [
    "type(width)"
   ]
  },
  {
   "cell_type": "code",
   "execution_count": 36,
   "metadata": {},
   "outputs": [
    {
     "ename": "TypeError",
     "evalue": "can't multiply sequence by non-int of type 'list'",
     "output_type": "error",
     "traceback": [
      "\u001b[1;31m---------------------------------------------------------------------------\u001b[0m",
      "\u001b[1;31mTypeError\u001b[0m                                 Traceback (most recent call last)",
      "\u001b[1;32m<ipython-input-36-0e06a76bd42a>\u001b[0m in \u001b[0;36m<module>\u001b[1;34m()\u001b[0m\n\u001b[1;32m----> 1\u001b[1;33m \u001b[0marea\u001b[0m \u001b[1;33m=\u001b[0m \u001b[0mwidth\u001b[0m\u001b[1;33m*\u001b[0m\u001b[0mlength\u001b[0m\u001b[1;33m\u001b[0m\u001b[0m\n\u001b[0m",
      "\u001b[1;31mTypeError\u001b[0m: can't multiply sequence by non-int of type 'list'"
     ]
    }
   ],
   "source": [
    "area = width*length"
   ]
  },
  {
   "cell_type": "code",
   "execution_count": 37,
   "metadata": {},
   "outputs": [],
   "source": [
    "np_length = np.array(length)\n",
    "np_width = np.array(width)"
   ]
  },
  {
   "cell_type": "code",
   "execution_count": 39,
   "metadata": {},
   "outputs": [
    {
     "data": {
      "text/plain": [
       "numpy.ndarray"
      ]
     },
     "execution_count": 39,
     "metadata": {},
     "output_type": "execute_result"
    }
   ],
   "source": [
    "type(np_length)"
   ]
  },
  {
   "cell_type": "code",
   "execution_count": 40,
   "metadata": {},
   "outputs": [],
   "source": [
    "area= np_length*np_width"
   ]
  },
  {
   "cell_type": "code",
   "execution_count": 41,
   "metadata": {},
   "outputs": [
    {
     "data": {
      "text/plain": [
       "array([2439.72, 2893.98, 1581.55, 2684.78, 2699.26])"
      ]
     },
     "execution_count": 41,
     "metadata": {},
     "output_type": "execute_result"
    }
   ],
   "source": [
    "area"
   ]
  },
  {
   "cell_type": "code",
   "execution_count": 42,
   "metadata": {},
   "outputs": [],
   "source": [
    "is_area_2500 = area > 2500"
   ]
  },
  {
   "cell_type": "code",
   "execution_count": 43,
   "metadata": {},
   "outputs": [
    {
     "data": {
      "text/plain": [
       "3"
      ]
     },
     "execution_count": 43,
     "metadata": {},
     "output_type": "execute_result"
    }
   ],
   "source": [
    "sum(is_area_2500)"
   ]
  },
  {
   "cell_type": "code",
   "execution_count": 44,
   "metadata": {},
   "outputs": [],
   "source": [
    "np_combined = np.array([length,width])"
   ]
  },
  {
   "cell_type": "code",
   "execution_count": 45,
   "metadata": {},
   "outputs": [
    {
     "data": {
      "text/plain": [
       "array([[75.3, 69.4, 67.3, 88.9, 93.4],\n",
       "       [32.4, 41.7, 23.5, 30.2, 28.9]])"
      ]
     },
     "execution_count": 45,
     "metadata": {},
     "output_type": "execute_result"
    }
   ],
   "source": [
    "np_combined"
   ]
  },
  {
   "cell_type": "code",
   "execution_count": 46,
   "metadata": {},
   "outputs": [
    {
     "data": {
      "text/plain": [
       "(2, 5)"
      ]
     },
     "execution_count": 46,
     "metadata": {},
     "output_type": "execute_result"
    }
   ],
   "source": [
    "np_combined.shape"
   ]
  },
  {
   "cell_type": "code",
   "execution_count": 47,
   "metadata": {},
   "outputs": [
    {
     "data": {
      "text/plain": [
       "69.4"
      ]
     },
     "execution_count": 47,
     "metadata": {},
     "output_type": "execute_result"
    }
   ],
   "source": [
    "np_combined[0][1]"
   ]
  },
  {
   "cell_type": "code",
   "execution_count": 48,
   "metadata": {},
   "outputs": [
    {
     "data": {
      "text/plain": [
       "array([67.3, 23.5])"
      ]
     },
     "execution_count": 48,
     "metadata": {},
     "output_type": "execute_result"
    }
   ],
   "source": [
    "np_combined[:,2]"
   ]
  },
  {
   "cell_type": "code",
   "execution_count": 49,
   "metadata": {},
   "outputs": [
    {
     "data": {
      "text/plain": [
       "31.339999999999996"
      ]
     },
     "execution_count": 49,
     "metadata": {},
     "output_type": "execute_result"
    }
   ],
   "source": [
    "np.mean(np_combined[1,:])"
   ]
  },
  {
   "cell_type": "code",
   "execution_count": 50,
   "metadata": {},
   "outputs": [
    {
     "data": {
      "text/plain": [
       "30.2"
      ]
     },
     "execution_count": 50,
     "metadata": {},
     "output_type": "execute_result"
    }
   ],
   "source": [
    "np.median(np_combined[1,:])"
   ]
  },
  {
   "cell_type": "code",
   "execution_count": 51,
   "metadata": {},
   "outputs": [
    {
     "data": {
      "text/plain": [
       "array([[75.3, 69.4, 67.3, 88.9, 93.4],\n",
       "       [32.4, 41.7, 23.5, 30.2, 28.9]])"
      ]
     },
     "execution_count": 51,
     "metadata": {},
     "output_type": "execute_result"
    }
   ],
   "source": [
    "np_combined"
   ]
  },
  {
   "cell_type": "code",
   "execution_count": 52,
   "metadata": {},
   "outputs": [
    {
     "data": {
      "text/plain": [
       "array([[ 1.        , -0.18636923],\n",
       "       [-0.18636923,  1.        ]])"
      ]
     },
     "execution_count": 52,
     "metadata": {},
     "output_type": "execute_result"
    }
   ],
   "source": [
    "np.corrcoef(np_combined[0,:],np_combined[1,:])"
   ]
  },
  {
   "cell_type": "code",
   "execution_count": 53,
   "metadata": {},
   "outputs": [
    {
     "data": {
      "text/plain": [
       "10.46911648612241"
      ]
     },
     "execution_count": 53,
     "metadata": {},
     "output_type": "execute_result"
    }
   ],
   "source": [
    "np.std(np_combined[0,:])"
   ]
  },
  {
   "cell_type": "code",
   "execution_count": 54,
   "metadata": {},
   "outputs": [
    {
     "data": {
      "text/plain": [
       "array([[[ 2,  4,  9,  7,  6],\n",
       "        [ 1,  9,  9,  9, 10]],\n",
       "\n",
       "       [[ 6,  9,  5,  9,  5],\n",
       "        [ 8,  8,  0,  5, 10]]])"
      ]
     },
     "execution_count": 54,
     "metadata": {},
     "output_type": "execute_result"
    }
   ],
   "source": [
    "np.random.randint(0,11,(2,2,5))"
   ]
  },
  {
   "cell_type": "code",
   "execution_count": 55,
   "metadata": {},
   "outputs": [],
   "source": [
    "length = np.random.normal(100,5,100)\n",
    "width = np.random.normal(50,20,100)"
   ]
  },
  {
   "cell_type": "code",
   "execution_count": 56,
   "metadata": {},
   "outputs": [],
   "source": [
    "np_area = np.column_stack((length,width))"
   ]
  },
  {
   "cell_type": "code",
   "execution_count": 57,
   "metadata": {},
   "outputs": [
    {
     "data": {
      "text/plain": [
       "array([[100.77990575,  60.81263366],\n",
       "       [ 99.21053157,  40.20282855],\n",
       "       [101.04634177,  61.44097924],\n",
       "       [ 99.57941171,  67.52613049],\n",
       "       [ 99.74110976,  41.87800941],\n",
       "       [ 98.86124632,  63.5372137 ],\n",
       "       [103.53103933,  66.2928938 ],\n",
       "       [ 96.8693276 ,  45.13612532],\n",
       "       [ 97.36192988,  41.8974978 ],\n",
       "       [ 99.16531357,  70.62873599],\n",
       "       [ 96.01723067,  54.08691606],\n",
       "       [100.58065057,  70.87218355],\n",
       "       [100.24051867,  56.90771336],\n",
       "       [ 98.0950064 ,  69.02583994],\n",
       "       [102.9752678 ,  62.53195614],\n",
       "       [101.48711313,  53.36215801],\n",
       "       [ 87.80188529,  55.3549599 ],\n",
       "       [ 90.25267207,  15.85308676],\n",
       "       [ 98.74743994,  35.20100901],\n",
       "       [ 94.52087803,  56.40003159],\n",
       "       [ 87.58858724,  79.90863592],\n",
       "       [103.90034918,  48.71971688],\n",
       "       [105.1154516 ,  44.62178752],\n",
       "       [ 98.12952798,  55.90174941],\n",
       "       [101.96657765,  28.91356253],\n",
       "       [101.69895607,  37.800471  ],\n",
       "       [103.71735458,  86.28133295],\n",
       "       [102.73853827, 101.13912768],\n",
       "       [101.03860448,  64.15052174],\n",
       "       [100.60985954,  60.85918515],\n",
       "       [ 93.07430585,  68.80589552],\n",
       "       [104.19690137,  76.95636646],\n",
       "       [ 93.92797773,  58.12185851],\n",
       "       [100.3145078 ,  56.61409737],\n",
       "       [ 95.92748365,  46.73392343],\n",
       "       [104.67552544,  34.38535885],\n",
       "       [ 97.94011464,  45.45976597],\n",
       "       [ 93.43434782,  54.48293187],\n",
       "       [106.67139657,  82.21116808],\n",
       "       [102.71513745,  21.32009515],\n",
       "       [104.14032424,  65.90789754],\n",
       "       [102.22242487,  62.19683615],\n",
       "       [ 98.54114638,  75.49951393],\n",
       "       [105.40005403,  59.03808962],\n",
       "       [103.11030386,  48.56697095],\n",
       "       [103.19662497,  65.25344604],\n",
       "       [103.16533672,  79.0008956 ],\n",
       "       [105.0880232 ,  37.6528503 ],\n",
       "       [ 92.34413839,  61.22816755],\n",
       "       [100.79264166,  66.63943049],\n",
       "       [ 99.63998755,  57.49398608],\n",
       "       [ 99.28450761,  76.98866164],\n",
       "       [ 96.47828188,  62.09291304],\n",
       "       [ 98.43104059,  74.34044728],\n",
       "       [ 98.58275629,  85.57089028],\n",
       "       [101.6020837 ,  49.52291712],\n",
       "       [ 97.74302518,  17.29373133],\n",
       "       [103.09981906,  30.2021122 ],\n",
       "       [ 98.65580845,  29.98941495],\n",
       "       [104.60049612,  50.67505764],\n",
       "       [ 88.71466836,  47.57577468],\n",
       "       [ 93.96624016,  43.9426688 ],\n",
       "       [105.85739582,  33.29561633],\n",
       "       [108.45054871,  11.93780501],\n",
       "       [ 96.91612929,  31.38720006],\n",
       "       [101.42342769,  65.36414204],\n",
       "       [100.96164728,  85.0948574 ],\n",
       "       [105.32347797,  32.64713362],\n",
       "       [ 98.76404562,  35.72205251],\n",
       "       [102.21707251,  57.96743411],\n",
       "       [106.96137856,  52.2312976 ],\n",
       "       [103.08924492,  40.26430952],\n",
       "       [105.3792547 ,  94.13984043],\n",
       "       [101.47213351,  61.22177505],\n",
       "       [ 95.3856041 ,  30.94341365],\n",
       "       [ 99.89220638, 101.30404683],\n",
       "       [105.50445642,  45.96887683],\n",
       "       [102.49580585,  58.65913941],\n",
       "       [103.51862479,  73.41313502],\n",
       "       [101.80589971,  74.61478215],\n",
       "       [ 97.7153605 ,  68.27360298],\n",
       "       [ 91.99114801,  53.85779881],\n",
       "       [101.09422125,  12.9231661 ],\n",
       "       [ 95.4168496 ,  55.45844813],\n",
       "       [106.33353588,  58.17270495],\n",
       "       [ 96.78760829,  84.61695176],\n",
       "       [ 91.56755267,  77.1799498 ],\n",
       "       [107.30894283,  88.80421288],\n",
       "       [ 96.21520256,  92.77615922],\n",
       "       [103.21245159,  42.17873966],\n",
       "       [ 97.60060787,  35.23559842],\n",
       "       [103.56259365,  23.50652202],\n",
       "       [ 94.55460854,  63.26631609],\n",
       "       [107.1084535 ,  46.91138828],\n",
       "       [ 99.04224704,  69.08572197],\n",
       "       [105.15503821,  50.86344048],\n",
       "       [ 97.38197817,  80.51117845],\n",
       "       [101.65043045,  56.07788365],\n",
       "       [ 93.59846868,  40.88851576],\n",
       "       [102.9170226 ,  62.05438474]])"
      ]
     },
     "execution_count": 57,
     "metadata": {},
     "output_type": "execute_result"
    }
   ],
   "source": [
    "np_area"
   ]
  },
  {
   "cell_type": "code",
   "execution_count": 58,
   "metadata": {},
   "outputs": [
    {
     "data": {
      "text/plain": [
       "range(0, 10)"
      ]
     },
     "execution_count": 58,
     "metadata": {},
     "output_type": "execute_result"
    }
   ],
   "source": [
    "range(0,10)"
   ]
  },
  {
   "cell_type": "code",
   "execution_count": 59,
   "metadata": {},
   "outputs": [
    {
     "data": {
      "text/plain": [
       "array([ 0, 10, 20, 30, 40, 50, 60, 70, 80, 90])"
      ]
     },
     "execution_count": 59,
     "metadata": {},
     "output_type": "execute_result"
    }
   ],
   "source": [
    "np.arange(0,100,10)"
   ]
  },
  {
   "cell_type": "code",
   "execution_count": 60,
   "metadata": {},
   "outputs": [
    {
     "data": {
      "text/plain": [
       "array([0., 0., 0., 0., 0.])"
      ]
     },
     "execution_count": 60,
     "metadata": {},
     "output_type": "execute_result"
    }
   ],
   "source": [
    "np.zeros(5)"
   ]
  },
  {
   "cell_type": "code",
   "execution_count": 61,
   "metadata": {},
   "outputs": [
    {
     "data": {
      "text/plain": [
       "array([2., 2., 2., 2., 2., 2., 2., 2., 2., 2.])"
      ]
     },
     "execution_count": 61,
     "metadata": {},
     "output_type": "execute_result"
    }
   ],
   "source": [
    "np.ones(10)*2"
   ]
  },
  {
   "cell_type": "code",
   "execution_count": 62,
   "metadata": {},
   "outputs": [],
   "source": [
    "np.random.seed(102)"
   ]
  },
  {
   "cell_type": "code",
   "execution_count": 63,
   "metadata": {},
   "outputs": [
    {
     "data": {
      "text/plain": [
       "array([ 8.33613659e+01,  6.85172363e+01,  7.11599355e+01,  3.15932197e+01,\n",
       "        7.59949693e+01,  5.66236602e+01,  3.98031006e+01,  3.19380216e+01,\n",
       "        4.73996725e+01,  5.23593017e+00,  6.94632976e+01,  4.95163038e+01,\n",
       "        4.03014449e+01,  2.78147128e+01,  3.88205047e+01,  7.08477315e+01,\n",
       "        1.57547459e+01,  5.27223977e+01,  4.07111202e+01,  5.10195968e+01,\n",
       "        7.89579742e+01,  6.18627695e+01,  3.48876863e+01,  3.74566893e+01,\n",
       "        6.76806977e+01,  5.32543551e+01, -5.62573101e-02,  5.82158198e+01,\n",
       "        6.45750081e+01,  5.05828040e+01,  4.41789508e+01,  5.62858615e+01,\n",
       "        6.99437937e+01,  1.18571259e+02,  3.84286530e+01,  4.59167399e+01,\n",
       "        1.26566269e+01,  7.88686789e+01,  5.80676007e+01,  3.61846920e+01,\n",
       "        7.34457493e+01,  1.85774319e+01,  6.60398462e+01,  3.85605428e+01,\n",
       "        8.10678742e+01,  6.40243996e+01,  7.02998535e+01,  4.76391607e+01,\n",
       "        2.87221811e+01,  7.35338240e+01,  7.69523888e+01,  3.41139991e+01,\n",
       "        2.44011394e+01,  6.11350553e+01,  4.90319256e+01,  5.46872862e+01,\n",
       "        3.03268582e+01,  7.18601011e+01,  2.49740794e+01,  7.96319962e+01,\n",
       "        4.54541386e+01,  4.87243967e+01,  4.64762978e+01,  6.54652125e+00,\n",
       "        1.82208554e+01,  2.41403704e+01,  3.90513700e+01,  4.98240680e+01,\n",
       "        4.04291954e+01,  4.28127533e+01,  6.21830197e+01,  7.07738753e+01,\n",
       "        5.19768678e+01,  2.78036516e+01,  3.49123141e+01,  7.03421132e+01,\n",
       "        1.50019045e+01,  2.29885378e+01,  5.06782414e+01,  5.84889411e+01,\n",
       "        4.14119392e+01,  4.55366083e+01,  5.46317719e+01,  3.20924286e+01,\n",
       "        2.99848176e+01,  7.33873990e+01,  6.57371954e+01,  6.12601227e+01,\n",
       "        2.45986868e+01,  4.43032727e+01,  5.53708192e+01,  3.49898482e+01,\n",
       "        5.96000330e+01,  8.87603832e+01,  3.59161348e+01,  4.53952208e+01,\n",
       "        4.97296845e+01,  4.01881198e+01,  5.31249340e+01,  4.19502690e+01])"
      ]
     },
     "execution_count": 63,
     "metadata": {},
     "output_type": "execute_result"
    }
   ],
   "source": [
    "np.random.normal(50,20,100)"
   ]
  },
  {
   "cell_type": "code",
   "execution_count": 64,
   "metadata": {},
   "outputs": [
    {
     "data": {
      "text/plain": [
       "array([ 55.57885096,  48.71224344,  75.49958936,  68.25006509,\n",
       "        46.27176729,  51.17545855,  65.78968821,  69.59650139,\n",
       "        -3.01669672,  43.8746062 ,  35.6054104 ,  52.34788773,\n",
       "        40.75117907,  31.18913327,  14.42028093,  60.58774477,\n",
       "        66.62703831,  44.82709046,  53.3454799 ,  38.12216843,\n",
       "        38.73859829,  67.65610468,  56.22989286,  33.1140409 ,\n",
       "        66.67924655,  77.83848971,  58.63318094,  61.55360679,\n",
       "        60.66033859,  64.29694585,  44.65544195,  73.96772576,\n",
       "        89.42389668,  44.70987429,  44.1458013 ,  18.49204011,\n",
       "        58.77968861,  46.01593587,  53.18567826,  76.07408723,\n",
       "        50.03634263, -15.48928341,  62.04174279,  46.40230616,\n",
       "        19.88859966,  55.48681705,  79.37250267,  72.42264124,\n",
       "        85.99681919,  97.03483745,  65.1362742 ,  47.4793029 ,\n",
       "        68.9041924 ,  67.08504078,  14.58404942,  73.96836269,\n",
       "        23.81433497,  76.30716571,  68.46195035,  53.28005373,\n",
       "        67.08202044,  23.84802451,  20.28096095,  67.41491761,\n",
       "        61.5007523 ,  54.93957834,  37.96254528,  40.69737179,\n",
       "        53.66677055,  66.53359432,  22.75789858,  45.67967391,\n",
       "        54.12705344,  17.17766612,  16.66685796,  50.69134462,\n",
       "        43.41566191,  68.7226498 ,  64.53136218,  62.93064708,\n",
       "        57.00194704,  97.6536848 ,  60.7693843 ,  27.99855691,\n",
       "        48.47874014,  83.10610881,  67.85071894,  59.91880314,\n",
       "        85.00063569,  57.68953643,  74.05862614,  42.73652288,\n",
       "        59.07013628,  64.80971079,  33.45103912,  16.89833389,\n",
       "        19.88991814,  30.33430463,  67.33482771,  43.57698935])"
      ]
     },
     "execution_count": 64,
     "metadata": {},
     "output_type": "execute_result"
    }
   ],
   "source": [
    "np.random.normal(50,20,100)"
   ]
  }
 ],
 "metadata": {
  "kernelspec": {
   "display_name": "Python 3",
   "language": "python",
   "name": "python3"
  },
  "language_info": {
   "codemirror_mode": {
    "name": "ipython",
    "version": 3
   },
   "file_extension": ".py",
   "mimetype": "text/x-python",
   "name": "python",
   "nbconvert_exporter": "python",
   "pygments_lexer": "ipython3",
   "version": "3.5.5"
  }
 },
 "nbformat": 4,
 "nbformat_minor": 2
}
